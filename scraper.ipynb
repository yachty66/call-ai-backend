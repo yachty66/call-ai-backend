{
 "cells": [
  {
   "cell_type": "code",
   "execution_count": null,
   "metadata": {},
   "outputs": [],
   "source": [
    "#that would be sick if i could record the phone calls on my iphone device and then transcribe the call and add it to the database what in this case is the google sheet"
   ]
  },
  {
   "cell_type": "code",
   "execution_count": 5,
   "metadata": {},
   "outputs": [],
   "source": [
    "import asyncio\n",
    "from playwright.async_api import async_playwright\n",
    "\n",
    "async def visit_autoscout24_dealers():\n",
    "    async with async_playwright() as p:\n",
    "        # Launch browser\n",
    "        browser = await p.chromium.launch(headless=False)  # Set headless=True for production\n",
    "        \n",
    "        # Create new page\n",
    "        page = await browser.new_page()\n",
    "        \n",
    "        # Navigate to the dealers page\n",
    "        url = \"https://www.autoscout24.de/haendler/#?city=Berlin\"\n",
    "        await page.goto(url)\n",
    "        \n",
    "        # Wait for the main content to load\n",
    "        await page.wait_for_selector(\"h1\", timeout=10000)  # Waits for the first h1 element\n",
    "\n",
    "        # Wait for and click the cookie consent button\n",
    "        accept_button = await page.wait_for_selector('button[data-testid=\"as24-cmp-accept-all-button\"]')\n",
    "        await accept_button.click()\n",
    "        \n",
    "\n",
    "        await page.wait_for_timeout(60000)  # Wait for 60 seconds\n",
    "        # Close browser\n",
    "        await browser.close()\n",
    "\n",
    "# For Jupyter notebook, use this:\n",
    "await visit_autoscout24_dealers()\n",
    "\n",
    "# If running as a script, use this instead:\n",
    "# if __name__ == \"__main__\":\n",
    "#     asyncio.run(visit_autoscout24_dealers())"
   ]
  },
  {
   "cell_type": "code",
   "execution_count": null,
   "metadata": {},
   "outputs": [],
   "source": []
  }
 ],
 "metadata": {
  "kernelspec": {
   "display_name": "base",
   "language": "python",
   "name": "python3"
  },
  "language_info": {
   "codemirror_mode": {
    "name": "ipython",
    "version": 3
   },
   "file_extension": ".py",
   "mimetype": "text/x-python",
   "name": "python",
   "nbconvert_exporter": "python",
   "pygments_lexer": "ipython3",
   "version": "3.11.10"
  }
 },
 "nbformat": 4,
 "nbformat_minor": 2
}
